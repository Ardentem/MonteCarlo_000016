{
 "cells": [
  {
   "cell_type": "code",
   "execution_count": 1,
   "metadata": {},
   "outputs": [],
   "source": [
    "import pandas as pd"
   ]
  },
  {
   "cell_type": "code",
   "execution_count": 2,
   "metadata": {},
   "outputs": [],
   "source": [
    "weight_df = pd.read_csv('weight.csv',encoding='gbk')\n",
    "close = pd.read_csv('sz50.csv')\n",
    "close.set_index('Unnamed: 0',inplace=True)\n",
    "close = close.T\n",
    "close.columns = [i[:6] for i in close.columns]\n",
    "close.index.name = 'date'\n",
    "index = pd.read_csv('000016.csv')\n",
    "index.set_index('Unnamed: 0',inplace=True)\n",
    "index.index.name = 'date'"
   ]
  },
  {
   "cell_type": "code",
   "execution_count": 3,
   "metadata": {},
   "outputs": [],
   "source": [
    "weight_df.to_feather('weight.txt')\n",
    "close.reset_index().to_feather('close.txt')\n",
    "index.reset_index().to_feather('000016.txt')"
   ]
  }
 ],
 "metadata": {
  "kernelspec": {
   "display_name": "base",
   "language": "python",
   "name": "python3"
  },
  "language_info": {
   "codemirror_mode": {
    "name": "ipython",
    "version": 3
   },
   "file_extension": ".py",
   "mimetype": "text/x-python",
   "name": "python",
   "nbconvert_exporter": "python",
   "pygments_lexer": "ipython3",
   "version": "3.9.12"
  }
 },
 "nbformat": 4,
 "nbformat_minor": 2
}
